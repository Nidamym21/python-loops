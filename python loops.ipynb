{
 "cells": [
  {
   "cell_type": "markdown",
   "id": "8fbeadbb-cb04-4dbd-b23a-e1ff829c674d",
   "metadata": {},
   "source": [
    "# Python:Loops Function\n",
    "\n",
    "- In Python, loops are used to repeatedly execute a block of code as long as a specified condition is met or until an iteration over a sequence is completed.\n",
    "- Loops are useful for automating repetitive tasks\n",
    "\n",
    "#### There are two main types of loops:"
   ]
  },
  {
   "cell_type": "markdown",
   "id": "ff5f940c-b851-45ea-8005-5f0eb67d0da4",
   "metadata": {},
   "source": [
    "# For Loop: \n",
    "- Iterates over a sequence (e.g., list, string) and runs the code block for each element.\n",
    "- Repeats through items: A for loop goes through each item in a list, string, or other sequence.\n",
    "- Fixed number of repeats: It repeats a set number of times based on the length of the sequence.\n",
    "  \n",
    "- break and continue:\n",
    "\n",
    "  \n",
    "break: Stops the loop early.\n",
    "\n",
    "\n",
    "\n",
    "continue: Skips the current step and moves to the next one.\n",
    "\n",
    "- Can use range(): You can use range() to loop through numbers.\n",
    "\n",
    "\n",
    "-For example:\n"
   ]
  },
  {
   "cell_type": "code",
   "execution_count": 1,
   "id": "de8dcb1c-70ac-47ac-b786-98cb00699638",
   "metadata": {},
   "outputs": [
    {
     "name": "stdout",
     "output_type": "stream",
     "text": [
      "0\n",
      "1\n",
      "2\n"
     ]
    }
   ],
   "source": [
    "for i in range(3):  # runs 3 times (0, 1, 2)\n",
    "    print(i)\n"
   ]
  },
  {
   "cell_type": "code",
   "execution_count": 7,
   "id": "63c912eb-a35e-4b1f-a41b-596411e59f52",
   "metadata": {},
   "outputs": [
    {
     "name": "stdout",
     "output_type": "stream",
     "text": [
      "apple\n",
      "banana\n",
      "cherry\n"
     ]
    }
   ],
   "source": [
    "fruits = ['apple', 'banana', 'cherry']\n",
    "for fruit in fruits:\n",
    "    print(fruit)\n"
   ]
  },
  {
   "cell_type": "code",
   "execution_count": 8,
   "id": "d18d9de0-3b9a-4537-9263-387071adf111",
   "metadata": {},
   "outputs": [
    {
     "name": "stdout",
     "output_type": "stream",
     "text": [
      "N\n",
      "i\n",
      "d\n",
      "a\n"
     ]
    }
   ],
   "source": [
    "name = \"Nida\"\n",
    "for letter in name:\n",
    "    print(letter)\n"
   ]
  },
  {
   "cell_type": "code",
   "execution_count": 9,
   "id": "13d54051-2628-4e8a-840d-95f81a7f2628",
   "metadata": {},
   "outputs": [
    {
     "name": "stdout",
     "output_type": "stream",
     "text": [
      "1\n",
      "2\n"
     ]
    }
   ],
   "source": [
    "numbers = [1, 2, 3, 4, 5]\n",
    "for num in numbers:\n",
    "    if num == 3:\n",
    "        break  # stops when num is 3\n",
    "    print(num)\n"
   ]
  },
  {
   "cell_type": "code",
   "execution_count": 14,
   "id": "e8bd67c0-105a-4d13-b778-9744975e4a78",
   "metadata": {},
   "outputs": [
    {
     "name": "stdout",
     "output_type": "stream",
     "text": [
      "0\n",
      "2\n",
      "4\n",
      "6\n",
      "8\n"
     ]
    }
   ],
   "source": [
    "n = 10\n",
    "for i in range(0, n, 2):\n",
    "    print(i)"
   ]
  },
  {
   "cell_type": "code",
   "execution_count": 15,
   "id": "0047c5ec-7cb4-4ee5-8bcf-e2190f6c4951",
   "metadata": {},
   "outputs": [
    {
     "name": "stdout",
     "output_type": "stream",
     "text": [
      "e\n",
      "u\n",
      "a\n",
      "i\n",
      "o\n"
     ]
    }
   ],
   "source": [
    "word = \"education\"\n",
    "vowels = \"aeiou\"\n",
    "\n",
    "for letter in word:\n",
    "    if letter in vowels:\n",
    "        print(letter)\n"
   ]
  },
  {
   "cell_type": "markdown",
   "id": "5ad10aa6-ee42-4e06-a2fd-ad9e2cf6f812",
   "metadata": {},
   "source": [
    "#  While Loop:\n",
    "- - \n",
    "- Repeats while a condition is true: A while loop keeps running until the condition becomes false.\n",
    "  \n",
    "- Unknown number of repeats: It can run many times or stop quickly, depending on when the condition is no longer true.\n",
    "  \n",
    "- Be careful: If the condition never becomes false, the loop will run forever.\n",
    "  \n",
    "- break and continue:\n",
    "\n",
    "  \n",
    "break: Stops the loop.\n",
    "\n",
    "continue: Skips to the next step.\n",
    "\n",
    "\n",
    "- For Example:"
   ]
  },
  {
   "cell_type": "code",
   "execution_count": 1,
   "id": "4b1a6e54-9bec-4a7f-a5a5-fab90a5bdea9",
   "metadata": {},
   "outputs": [
    {
     "name": "stdout",
     "output_type": "stream",
     "text": [
      "0\n",
      "1\n",
      "2\n",
      "3\n",
      "4\n"
     ]
    }
   ],
   "source": [
    "x = 0\n",
    "while x < 5:\n",
    "    print(x)\n",
    "    x += 1  # increment x to avoid an infinite loop\n"
   ]
  },
  {
   "cell_type": "code",
   "execution_count": 2,
   "id": "add963be-f2c0-4525-b3bb-076f9e360ed8",
   "metadata": {},
   "outputs": [
    {
     "name": "stdout",
     "output_type": "stream",
     "text": [
      "2\n"
     ]
    }
   ],
   "source": [
    "word = \"hello\"\n",
    "vowels = \"aeiou\"\n",
    "i = 0\n",
    "vowel_count = 0\n",
    "\n",
    "while i < len(word):\n",
    "    if word[i] in vowels:\n",
    "        vowel_count += 1\n",
    "    i += 1\n",
    "\n",
    "print(vowel_count)\n"
   ]
  },
  {
   "cell_type": "code",
   "execution_count": 3,
   "id": "f06a1946-9982-4987-84a3-dc81bf0cb61f",
   "metadata": {},
   "outputs": [
    {
     "name": "stdout",
     "output_type": "stream",
     "text": [
      "2024 Is a Leap Year\n",
      "2025 Is not a Leap Year\n",
      "2026 Is not a Leap Year\n",
      "2027 Is not a Leap Year\n",
      "2028 Is a Leap Year\n",
      "2029 Is not a Leap Year\n",
      "2030 Is not a Leap Year\n",
      "2031 Is not a Leap Year\n",
      "2032 Is a Leap Year\n",
      "2033 Is not a Leap Year\n",
      "2034 Is not a Leap Year\n",
      "2035 Is not a Leap Year\n",
      "2036 Is a Leap Year\n",
      "2037 Is not a Leap Year\n",
      "2038 Is not a Leap Year\n",
      "2039 Is not a Leap Year\n",
      "2040 Is a Leap Year\n",
      "2041 Is not a Leap Year\n",
      "2042 Is not a Leap Year\n",
      "2043 Is not a Leap Year\n",
      "2044 Is a Leap Year\n",
      "2045 Is not a Leap Year\n",
      "2046 Is not a Leap Year\n",
      "2047 Is not a Leap Year\n",
      "2048 Is a Leap Year\n",
      "2049 Is not a Leap Year\n",
      "2050 Is not a Leap Year\n"
     ]
    }
   ],
   "source": [
    "year = 2024\n",
    "while year<=2050:\n",
    "    if year%4 == 0:\n",
    "        print(year, \"Is a Leap Year\")\n",
    "    else:\n",
    "        print(year, \"Is not a Leap Year\")\n",
    "    year = year + 1"
   ]
  },
  {
   "cell_type": "code",
   "execution_count": 4,
   "id": "9d2599a6-dc6b-4ca6-9d6e-792e6bc3d791",
   "metadata": {},
   "outputs": [
    {
     "name": "stdout",
     "output_type": "stream",
     "text": [
      "2\n",
      "4\n",
      "6\n"
     ]
    }
   ],
   "source": [
    "i = 2\n",
    "while i <= 6:\n",
    "    print(i)\n",
    "    i += 2\n"
   ]
  },
  {
   "cell_type": "code",
   "execution_count": 5,
   "id": "b1c5fb20-d4a9-47ad-9214-3c67684466c8",
   "metadata": {},
   "outputs": [
    {
     "name": "stdin",
     "output_type": "stream",
     "text": [
      "Enter Year: 2000\n"
     ]
    },
    {
     "name": "stdout",
     "output_type": "stream",
     "text": [
      "2000 is 20 Century\n"
     ]
    }
   ],
   "source": [
    "year = int(input(\"Enter Year:\"))\n",
    "while year<=2024:\n",
    "    if year%100 == 0:\n",
    "        print(year, \"is\", year//100, \"Century\")\n",
    "    else:\n",
    "        print(year, \"is\", year//100+1, \"Century\")\n",
    "    year = year + 50"
   ]
  },
  {
   "cell_type": "code",
   "execution_count": 6,
   "id": "6d3b56a7-ef32-4102-a75e-be74cf080dc6",
   "metadata": {},
   "outputs": [
    {
     "name": "stdout",
     "output_type": "stream",
     "text": [
      "Step 1\n",
      "Step 2\n",
      "Step 3\n",
      "Step 4\n",
      "Step 5\n",
      "Step 6\n",
      "Step 7\n",
      "Step 8\n",
      "Step 9\n",
      "Step 10\n",
      "You reached 10 steps!\n"
     ]
    }
   ],
   "source": [
    "steps = 0\n",
    "\n",
    "while steps < 10:\n",
    "    print(f\"Step {steps + 1}\")\n",
    "    steps += 1\n",
    "\n",
    "print(\"You reached 10 steps!\")\n",
    "\n"
   ]
  },
  {
   "cell_type": "code",
   "execution_count": null,
   "id": "39d8f8d8-d629-42da-a459-dd12553f68c6",
   "metadata": {},
   "outputs": [],
   "source": []
  }
 ],
 "metadata": {
  "kernelspec": {
   "display_name": "Python 3 (ipykernel)",
   "language": "python",
   "name": "python3"
  },
  "language_info": {
   "codemirror_mode": {
    "name": "ipython",
    "version": 3
   },
   "file_extension": ".py",
   "mimetype": "text/x-python",
   "name": "python",
   "nbconvert_exporter": "python",
   "pygments_lexer": "ipython3",
   "version": "3.12.4"
  }
 },
 "nbformat": 4,
 "nbformat_minor": 5
}
